{
 "cells": [
  {
   "cell_type": "code",
   "execution_count": 1,
   "metadata": {
    "collapsed": true
   },
   "outputs": [],
   "source": [
    "import pandas as pd\n",
    "import numpy as np\n",
    "import matplotlib.pyplot as plt\n",
    "%matplotlib inline"
   ]
  },
  {
   "cell_type": "code",
   "execution_count": 2,
   "metadata": {
    "collapsed": false
   },
   "outputs": [],
   "source": [
    "train=pd.read_csv('/Users/Code-Red/Downloads/comedy_comparisons/comedy_comparisons.train',header=None,names=[\"left\",\"right\",\"direction\"])"
   ]
  },
  {
   "cell_type": "code",
   "execution_count": 3,
   "metadata": {
    "collapsed": false
   },
   "outputs": [],
   "source": [
    "test=pd.read_csv('/Users/Code-Red/Downloads/comedy_comparisons/comedy_comparisons.train',header=None,names=[\"left\",\"right\",\"direction\"])"
   ]
  },
  {
   "cell_type": "code",
   "execution_count": 4,
   "metadata": {
    "collapsed": false
   },
   "outputs": [
    {
     "data": {
      "text/html": [
       "<div>\n",
       "<table border=\"1\" class=\"dataframe\">\n",
       "  <thead>\n",
       "    <tr style=\"text-align: right;\">\n",
       "      <th></th>\n",
       "      <th>left</th>\n",
       "      <th>right</th>\n",
       "      <th>direction</th>\n",
       "    </tr>\n",
       "  </thead>\n",
       "  <tbody>\n",
       "    <tr>\n",
       "      <th>0</th>\n",
       "      <td>sNabaB-eb3Y</td>\n",
       "      <td>wHkPb68dxEw</td>\n",
       "      <td>left</td>\n",
       "    </tr>\n",
       "    <tr>\n",
       "      <th>1</th>\n",
       "      <td>sNabaB-eb3Y</td>\n",
       "      <td>y2emSXSE-N4</td>\n",
       "      <td>left</td>\n",
       "    </tr>\n",
       "    <tr>\n",
       "      <th>2</th>\n",
       "      <td>fY_FQMQpjok</td>\n",
       "      <td>sNabaB-eb3Y</td>\n",
       "      <td>left</td>\n",
       "    </tr>\n",
       "    <tr>\n",
       "      <th>3</th>\n",
       "      <td>Vr4D8xO2lBY</td>\n",
       "      <td>sNabaB-eb3Y</td>\n",
       "      <td>right</td>\n",
       "    </tr>\n",
       "    <tr>\n",
       "      <th>4</th>\n",
       "      <td>sNabaB-eb3Y</td>\n",
       "      <td>dDtRnstrefE</td>\n",
       "      <td>left</td>\n",
       "    </tr>\n",
       "  </tbody>\n",
       "</table>\n",
       "</div>"
      ],
      "text/plain": [
       "          left        right direction\n",
       "0  sNabaB-eb3Y  wHkPb68dxEw      left\n",
       "1  sNabaB-eb3Y  y2emSXSE-N4      left\n",
       "2  fY_FQMQpjok  sNabaB-eb3Y      left\n",
       "3  Vr4D8xO2lBY  sNabaB-eb3Y     right\n",
       "4  sNabaB-eb3Y  dDtRnstrefE      left"
      ]
     },
     "execution_count": 4,
     "metadata": {},
     "output_type": "execute_result"
    }
   ],
   "source": [
    "train.head()"
   ]
  },
  {
   "cell_type": "code",
   "execution_count": 5,
   "metadata": {
    "collapsed": false
   },
   "outputs": [
    {
     "data": {
      "text/html": [
       "<div>\n",
       "<table border=\"1\" class=\"dataframe\">\n",
       "  <thead>\n",
       "    <tr style=\"text-align: right;\">\n",
       "      <th></th>\n",
       "      <th>left</th>\n",
       "      <th>right</th>\n",
       "      <th>direction</th>\n",
       "    </tr>\n",
       "  </thead>\n",
       "  <tbody>\n",
       "    <tr>\n",
       "      <th>0</th>\n",
       "      <td>sNabaB-eb3Y</td>\n",
       "      <td>wHkPb68dxEw</td>\n",
       "      <td>left</td>\n",
       "    </tr>\n",
       "    <tr>\n",
       "      <th>1</th>\n",
       "      <td>sNabaB-eb3Y</td>\n",
       "      <td>y2emSXSE-N4</td>\n",
       "      <td>left</td>\n",
       "    </tr>\n",
       "    <tr>\n",
       "      <th>2</th>\n",
       "      <td>fY_FQMQpjok</td>\n",
       "      <td>sNabaB-eb3Y</td>\n",
       "      <td>left</td>\n",
       "    </tr>\n",
       "    <tr>\n",
       "      <th>3</th>\n",
       "      <td>Vr4D8xO2lBY</td>\n",
       "      <td>sNabaB-eb3Y</td>\n",
       "      <td>right</td>\n",
       "    </tr>\n",
       "    <tr>\n",
       "      <th>4</th>\n",
       "      <td>sNabaB-eb3Y</td>\n",
       "      <td>dDtRnstrefE</td>\n",
       "      <td>left</td>\n",
       "    </tr>\n",
       "  </tbody>\n",
       "</table>\n",
       "</div>"
      ],
      "text/plain": [
       "          left        right direction\n",
       "0  sNabaB-eb3Y  wHkPb68dxEw      left\n",
       "1  sNabaB-eb3Y  y2emSXSE-N4      left\n",
       "2  fY_FQMQpjok  sNabaB-eb3Y      left\n",
       "3  Vr4D8xO2lBY  sNabaB-eb3Y     right\n",
       "4  sNabaB-eb3Y  dDtRnstrefE      left"
      ]
     },
     "execution_count": 5,
     "metadata": {},
     "output_type": "execute_result"
    }
   ],
   "source": [
    "test.head()"
   ]
  },
  {
   "cell_type": "code",
   "execution_count": 6,
   "metadata": {
    "collapsed": false
   },
   "outputs": [],
   "source": [
    "combined_dataset=pd.concat([train,test])"
   ]
  },
  {
   "cell_type": "code",
   "execution_count": 7,
   "metadata": {
    "collapsed": true
   },
   "outputs": [],
   "source": [
    "combined_dataset = combined_dataset.reset_index(drop=True)"
   ]
  },
  {
   "cell_type": "code",
   "execution_count": null,
   "metadata": {
    "collapsed": false
   },
   "outputs": [],
   "source": [
    "all_ids=(pd.concat([combined_dataset.left,combined_dataset.right])).unique()"
   ]
  },
  {
   "cell_type": "code",
   "execution_count": null,
   "metadata": {
    "collapsed": false
   },
   "outputs": [
    {
     "name": "stderr",
     "output_type": "stream",
     "text": [
      "WARNING:root:pafy: youtube-dl not found; falling back to internal backend. This is not as well maintained as the youtube-dl backend. To hide this message, set the environmental variable PAFY_BACKEND to \"internal\".\n",
      "WARNING:root:Unknown itag: 212\n",
      "WARNING:root:Unknown itag: 213\n",
      "WARNING:root:Unknown itag: 212\n",
      "WARNING:root:Unknown itag: 213\n",
      "WARNING:root:Unknown itag: 212\n",
      "WARNING:root:Unknown itag: 213\n",
      "WARNING:root:Unknown itag: 212\n",
      "WARNING:root:Unknown itag: 213\n",
      "WARNING:root:Unknown itag: 212\n",
      "WARNING:root:Unknown itag: 213\n",
      "WARNING:root:Unknown itag: 212\n",
      "WARNING:root:Unknown itag: 213\n"
     ]
    }
   ],
   "source": [
    "import pafy\n",
    "\n",
    "out=open('/Users/Code-Red/Downloads/youtube_details.txt','w')\n",
    "for i in all_ids:\n",
    "    try:\n",
    "        url = \"https://www.youtube.com/watch?v=\"+i\n",
    "        video = pafy.new(url)\n",
    "        vid={}\n",
    "        vid[\"id\"]=i\n",
    "        vid[\"title\"]=video.title\n",
    "        vid[\"rating\"]=video.rating\n",
    "        vid[\"viewcount\"]=video.viewcount\n",
    "        vid[\"author\"]=video.author\n",
    "        vid[\"length\"]=video.length\n",
    "        vid[\"duration\"]=video.duration\n",
    "        vid[\"likes\"]=video.likes\n",
    "        vid[\"dislikes\"]=video.dislikes\n",
    "        vid[\"streams\"]=[{\"resolution\":s.resolution, \"extension\":s.extension, \"filesize\":s.get_filesize()} for s in video.streams]\n",
    "        vid[\"audiostreams\"]=[{\"bitrate\":a.bitrate, \"extension\":a.extension, \"filesize\":a.get_filesize()} for a in video.audiostreams]\n",
    "\n",
    "        out.write(str(vid)+'\\n')\n",
    "    except:\n",
    "        pass\n"
   ]
  },
  {
   "cell_type": "code",
   "execution_count": null,
   "metadata": {
    "collapsed": true
   },
   "outputs": [],
   "source": [
    "out.close()"
   ]
  },
  {
   "cell_type": "code",
   "execution_count": null,
   "metadata": {
    "collapsed": true
   },
   "outputs": [],
   "source": []
  }
 ],
 "metadata": {
  "kernelspec": {
   "display_name": "Python 3",
   "language": "python",
   "name": "python3"
  },
  "language_info": {
   "codemirror_mode": {
    "name": "ipython",
    "version": 3
   },
   "file_extension": ".py",
   "mimetype": "text/x-python",
   "name": "python",
   "nbconvert_exporter": "python",
   "pygments_lexer": "ipython3",
   "version": "3.5.1"
  }
 },
 "nbformat": 4,
 "nbformat_minor": 2
}
